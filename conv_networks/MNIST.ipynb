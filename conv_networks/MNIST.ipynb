{
 "cells": [
  {
   "cell_type": "code",
   "execution_count": 15,
   "metadata": {
    "collapsed": true
   },
   "outputs": [],
   "source": [
    "from __future__ import print_function\n",
    "\n",
    "from IPython.display import Image\n",
    "from IPython.display import clear_output\n",
    "\n",
    "import matplotlib.pyplot as plt\n",
    "import matplotlib.patches as mpatches\n",
    "\n",
    "import numpy as np\n",
    "import os, shutil\n",
    "import pickle\n",
    "import time\n",
    "\n",
    "import tensorflow as tf\n",
    "\n",
    "%matplotlib inline"
   ]
  },
  {
   "cell_type": "code",
   "execution_count": 39,
   "metadata": {
    "collapsed": false
   },
   "outputs": [
    {
     "name": "stdout",
     "output_type": "stream",
     "text": [
      "Extracting ../data/MNIST_data/train-images-idx3-ubyte.gz\n",
      "Extracting ../data/MNIST_data/train-labels-idx1-ubyte.gz\n",
      "Extracting ../data/MNIST_data/t10k-images-idx3-ubyte.gz\n",
      "Extracting ../data/MNIST_data/t10k-labels-idx1-ubyte.gz\n",
      "train\n",
      "(55000, 28, 28, 1)\n",
      "(55000, 10)\n",
      "validation\n",
      "(5000, 28, 28, 1)\n",
      "(5000, 10)\n",
      "test\n",
      "(10000, 28, 28, 1)\n",
      "(10000, 10)\n"
     ]
    }
   ],
   "source": [
    "from tensorflow.examples.tutorials.mnist import input_data\n",
    "mnist = input_data.read_data_sets('../data/MNIST_data', one_hot=True)\n",
    "\n",
    "print(\"train\")\n",
    "train_data = mnist.train.images.reshape(55000, 28, 28, 1)\n",
    "print(train_data.shape)\n",
    "\n",
    "train_labels = mnist.train.labels\n",
    "print(train_labels.shape)\n",
    "\n",
    "\n",
    "print(\"validation\")\n",
    "validation_data = mnist.validation.images.reshape(5000, 28, 28, 1)\n",
    "print(validation_data.shape)\n",
    "\n",
    "validation_labels = mnist.validation.labels\n",
    "print(validation_labels.shape)\n",
    "\n",
    "\n",
    "print(\"test\")\n",
    "test_data = mnist.test.images.reshape(10000, 28, 28, 1)\n",
    "print(test_data.shape)\n",
    "\n",
    "test_labels = mnist.test.labels\n",
    "print(test_labels.shape)"
   ]
  },
  {
   "cell_type": "code",
   "execution_count": 9,
   "metadata": {
    "collapsed": false
   },
   "outputs": [],
   "source": [
    "# Utility Functions\n",
    "def accuracy(predictions, labels):\n",
    "  return (100.0 * np.sum(np.argmax(predictions, 1) == np.argmax(labels, 1))\n",
    "          / predictions.shape[0])\n",
    "\n",
    "def plot_log_data(log_data):\n",
    "    plt.ylim(-5,110)\n",
    "\n",
    "    plt.plot(log_data['validation_acc'], color=\"red\", label='Validation Acc')\n",
    "    plt.plot(log_data['mini_batch_acc'], color=\"blue\", label='Mini Batch Acc')\n",
    "    plt.plot(log_data['mini_batch_loss'], color=\"green\", label='Mini Batch Loss (Scaled)')\n",
    "\n",
    "    plt.legend(bbox_to_anchor=(1.05, 1), loc=2, borderaxespad=0.)\n",
    "    plt.show()\n",
    "    \n",
    "def delete_folder_content(path_to_folder):\n",
    "    for the_file in os.listdir(path_to_folder):\n",
    "        file_path = os.path.join(path_to_folder, the_file)\n",
    "        try:\n",
    "            if os.path.isfile(file_path):\n",
    "                os.unlink(file_path)\n",
    "            #elif os.path.isdir(file_path): shutil.rmtree(file_path)\n",
    "        except Exception as e:\n",
    "            print(e)"
   ]
  },
  {
   "cell_type": "code",
   "execution_count": 17,
   "metadata": {
    "collapsed": false
   },
   "outputs": [],
   "source": [
    "param = {\n",
    "    \"image_size\" : 28,\n",
    "    \"num_labels\" : 10,\n",
    "    \"num_channels\" : 1,\n",
    "    \"batch_size\" : 200,\n",
    "    \"patch_size\" : 5,\n",
    "    \"depth\" : 16,\n",
    "    \"num_hidden\" : 64,\n",
    "    \"num_steps\" : 50001,\n",
    "    \"dropout_prob\" : 3,\n",
    "    \"l2_regularization_rate\" : 0.1,\n",
    "    \"learning_startrate\" : 0.01,\n",
    "    \"learning_decay\" : 0.97,\n",
    "    \"learning_decay_steps\" : 100,\n",
    "    \"num_log_steps\" : 1000, \n",
    "    \"log_folder\" : \"../logs\"\n",
    "}"
   ]
  },
  {
   "cell_type": "code",
   "execution_count": 23,
   "metadata": {
    "collapsed": true
   },
   "outputs": [],
   "source": [
    "def conv_relu(data, kernel_shape, bias_shape, stride):\n",
    "    \n",
    "    weights = tf.get_variable(\"weights\", kernel_shape,\n",
    "        initializer=tf.truncated_normal_initializer(stddev=0.1))\n",
    "    \n",
    "    biases = tf.get_variable(\"biases\", bias_shape,\n",
    "        initializer=tf.constant_initializer(0.0))\n",
    "    \n",
    "    conv = tf.nn.conv2d(data, weights,\n",
    "        strides=[1, stride, stride, 1], padding='SAME')\n",
    "    \n",
    "    conv_relu = tf.nn.relu(conv + biases)\n",
    "    \n",
    "    return conv_relu"
   ]
  },
  {
   "cell_type": "code",
   "execution_count": 24,
   "metadata": {
    "collapsed": true
   },
   "outputs": [],
   "source": [
    "def relu(data, output_shape):\n",
    "    input_shape = [ data.get_shape().as_list()[1], output_shape]\n",
    "    weights = tf.get_variable(\"weights\", input_shape,\n",
    "        initializer=tf.truncated_normal_initializer(stddev=0.1))\n",
    "    \n",
    "    biases = tf.get_variable(\"biases\", output_shape,\n",
    "        initializer=tf.constant_initializer(1.0))\n",
    "    \n",
    "    mul = tf.matmul(data, weights)\n",
    "    \n",
    "    return tf.nn.relu(mul + biases)"
   ]
  },
  {
   "cell_type": "code",
   "execution_count": 30,
   "metadata": {
    "collapsed": false
   },
   "outputs": [],
   "source": [
    "# Defining model\n",
    "def model(data):\n",
    "  with tf.variable_scope(\"conv1\"):\n",
    "    kernel_shape = [ param[\"patch_size\"],\n",
    "                     param[\"patch_size\"],\n",
    "                     param[\"num_channels\"],\n",
    "                     param[\"depth\"]\n",
    "                    ]\n",
    "    bias_shape = param[\"depth\"]\n",
    "    stride = 2\n",
    "    conv1 = conv_relu(data, kernel_shape, bias_shape, stride)\n",
    "\n",
    "\n",
    "  with tf.variable_scope(\"conv2\"):\n",
    "    kernel_shape = [ param[\"patch_size\"],\n",
    "                     param[\"patch_size\"],\n",
    "                     param[\"depth\"],\n",
    "                     param[\"depth\"]\n",
    "                    ]\n",
    "    bias_shape = param[\"depth\"]\n",
    "    stride = 2\n",
    "    conv2 = conv_relu(conv1, kernel_shape, bias_shape, stride)\n",
    "\n",
    "  with tf.variable_scope(\"reshape\"):\n",
    "    shape = conv2.get_shape().as_list()\n",
    "    reshaped = tf.reshape(conv2, [shape[0], shape[1] * shape[2] * shape[3]])\n",
    "\n",
    "  with tf.variable_scope(\"relu1\"):\n",
    "    relu1 = relu(reshaped, param[\"num_hidden\"])\n",
    "\n",
    "  with tf.variable_scope(\"relu2\"):\n",
    "    relu2 = relu(relu1, param[\"num_labels\"])\n",
    "\n",
    "  return relu2"
   ]
  },
  {
   "cell_type": "code",
   "execution_count": 41,
   "metadata": {
    "collapsed": false
   },
   "outputs": [],
   "source": [
    "#Defining the graph\n",
    "\n",
    "tf.reset_default_graph()\n",
    "graph = tf.Graph()\n",
    "with graph.as_default():\n",
    "  with tf.variable_scope(\"input\"):\n",
    "    tf_train_dataset = tf.placeholder(\n",
    "      tf.float32, shape=(param[\"batch_size\"], \n",
    "                         param[\"image_size\"], \n",
    "                         param[\"image_size\"], \n",
    "                         param[\"num_channels\"]))\n",
    "  \n",
    "  with tf.variable_scope(\"labels\"):\n",
    "    tf_train_labels = tf.placeholder(\n",
    "      tf.float32, shape=(param[\"batch_size\"],\n",
    "                         param[\"num_labels\"]))\n",
    "  \n",
    "  with tf.variable_scope(\"validation_set\"):\n",
    "    tf_valid_dataset = tf.constant(validation_data)\n",
    "  with tf.variable_scope(\"test_set\"):\n",
    "    tf_test_dataset = tf.constant(test_data)  \n",
    "\n",
    "  # Defining training\n",
    "  logits = model(tf_train_dataset)\n",
    "  \n",
    "  with tf.variable_scope(\"loss\"):\n",
    "    loss = tf.reduce_mean(tf.nn.softmax_cross_entropy_with_logits(logits, tf_train_labels))\n",
    "  \n",
    "  global_step = tf.Variable(0, name=\"global_step\")  # count the number of steps taken.\n",
    "  learning_rate = tf.train.exponential_decay(param['learning_startrate'], global_step, \n",
    "                                             param['learning_decay_steps'], param['learning_decay'],\n",
    "                                             staircase=True)\n",
    "  # Optimizer.\n",
    "  with tf.variable_scope(\"optimizer\"):\n",
    "    optimizer = tf.train.GradientDescentOptimizer(learning_rate).minimize(loss, global_step)\n",
    "  \n",
    "  # Predictions for the training, validation, and test data.\n",
    "  with tf.variable_scope(\"train_prediction\"):\n",
    "    train_prediction = tf.nn.softmax(logits)\n",
    "  \n",
    "  tf.get_variable_scope().reuse_variables()\n",
    "  valid_prediction = tf.nn.softmax(model(tf_valid_dataset) , name=\"valid_prediction\")\n",
    "  test_prediction = tf.nn.softmax(model(tf_test_dataset) , name=\"test_prediction\")"
   ]
  },
  {
   "cell_type": "code",
   "execution_count": 42,
   "metadata": {
    "collapsed": false
   },
   "outputs": [
    {
     "name": "stdout",
     "output_type": "stream",
     "text": [
      "Offset: 26400\n",
      "Progress: 100.00%\n",
      "Elapsed Time: 2.95 min\n",
      "Minibatch loss at step 50000: 0.149683\n",
      "Minibatch accuracy: 95.0%\n",
      "Validation accuracy: 95.5%\n"
     ]
    },
    {
     "data": {
      "image/png": "[encoded data removed]",
      "text/plain": [
       "<matplotlib.figure.Figure at 0x7fed11729400>"
      ]
     },
     "metadata": {},
     "output_type": "display_data"
    },
    {
     "ename": "AttributeError",
     "evalue": "'numpy.ndarray' object has no attribute 'eval'",
     "output_type": "error",
     "traceback": [
      "\u001b[0;31m---------------------------------------------------------------------------\u001b[0m",
      "\u001b[0;31mAttributeError\u001b[0m                            Traceback (most recent call last)",
      "\u001b[0;32m<ipython-input-42-c77b1f5870fb>\u001b[0m in \u001b[0;36m<module>\u001b[0;34m()\u001b[0m\n\u001b[1;32m     45\u001b[0m       \u001b[0mplot_log_data\u001b[0m\u001b[0;34m(\u001b[0m\u001b[0mlog_data\u001b[0m\u001b[0;34m)\u001b[0m\u001b[0;34m\u001b[0m\u001b[0m\n\u001b[1;32m     46\u001b[0m \u001b[0;34m\u001b[0m\u001b[0m\n\u001b[0;32m---> 47\u001b[0;31m   \u001b[0mtest_acc\u001b[0m \u001b[0;34m=\u001b[0m \u001b[0maccuracy\u001b[0m\u001b[0;34m(\u001b[0m \u001b[0mtest_labels\u001b[0m\u001b[0;34m.\u001b[0m\u001b[0meval\u001b[0m\u001b[0;34m(\u001b[0m\u001b[0;34m)\u001b[0m\u001b[0;34m,\u001b[0m \u001b[0mtest_labels\u001b[0m \u001b[0;34m)\u001b[0m\u001b[0;34m\u001b[0m\u001b[0m\n\u001b[0m\u001b[1;32m     48\u001b[0m   \u001b[0mprint\u001b[0m\u001b[0;34m(\u001b[0m\u001b[0;34m\"Test accuracy: %.1f%%\"\u001b[0m \u001b[0;34m%\u001b[0m \u001b[0mval_acc\u001b[0m \u001b[0;34m)\u001b[0m\u001b[0;34m\u001b[0m\u001b[0m\n\u001b[1;32m     49\u001b[0m   \u001b[0mprint\u001b[0m\u001b[0;34m(\u001b[0m\u001b[0mparam\u001b[0m\u001b[0;34m)\u001b[0m\u001b[0;34m\u001b[0m\u001b[0m\n",
      "\u001b[0;31mAttributeError\u001b[0m: 'numpy.ndarray' object has no attribute 'eval'"
     ]
    }
   ],
   "source": [
    "log_data = {\n",
    "    \"mini_batch_loss\" : [],\n",
    "    \"mini_batch_acc\" : [],\n",
    "    \"validation_acc\" : [],\n",
    "    \"stepsize\" : param['num_log_steps']\n",
    "}\n",
    "\n",
    "delete_folder_content(param[\"log_folder\"])\n",
    "\n",
    "start_time = time.time()\n",
    "with tf.Session(graph=graph) as session:\n",
    "    \n",
    "  session.run(tf.initialize_all_variables())\n",
    "\n",
    "  summary_writer = tf.train.SummaryWriter(param[\"log_folder\"], session.graph)\n",
    "    \n",
    "  print('Initialized')\n",
    "  for step in range(param['num_steps']):\n",
    "        \n",
    "    offset = (step * param['batch_size']) % (train_labels.shape[0] - param['batch_size'])\n",
    "    \n",
    "    batch_data = train_data[offset:(offset + param['batch_size']), :, :, :]\n",
    "    \n",
    "    batch_labels = train_labels[offset:(offset + param['batch_size']), :]\n",
    "    \n",
    "    feed_dict = {tf_train_dataset : batch_data, tf_train_labels : batch_labels}\n",
    "    \n",
    "    _, l, predictions = session.run([optimizer, loss, train_prediction], feed_dict=feed_dict)\n",
    "    \n",
    "    if (step % param[\"num_log_steps\"] == 0):\n",
    "      clear_output()\n",
    "      print(\"Offset: {}\".format(offset))\n",
    "      print(\"Progress: {:5.2f}%\".format( step*100 / param['num_steps']) )\n",
    "      print(\"Elapsed Time: {:4.2f} min\".format( (time.time() - start_time) / 60 ))\n",
    "      print(\"Minibatch loss at step %d: %f\" % (step, l))\n",
    "      log_data[\"mini_batch_loss\"].append(l * 100)\n",
    "        \n",
    "      mini_batch_acc = accuracy(predictions, batch_labels)\n",
    "      print(\"Minibatch accuracy: %.1f%%\" % mini_batch_acc)\n",
    "      log_data[\"mini_batch_acc\"].append(100.0 - mini_batch_acc)\n",
    "    \n",
    "      val_acc = accuracy( valid_prediction.eval(), validation_labels )\n",
    "      print(\"Validation accuracy: %.1f%%\" % val_acc )\n",
    "      log_data[\"validation_acc\"].append(100.0 - val_acc)\n",
    "      plot_log_data(log_data)\n",
    "  \n",
    "  test_acc = accuracy( test_labels.eval(), test_labels )\n",
    "  print(\"Test accuracy: %.1f%%\" % val_acc )\n",
    "  print(param)"
   ]
  },
  {
   "cell_type": "code",
   "execution_count": null,
   "metadata": {
    "collapsed": true
   },
   "outputs": [],
   "source": []
  }
 ],
 "metadata": {
  "kernelspec": {
   "display_name": "Python 3",
   "language": "python",
   "name": "python3"
  },
  "language_info": {
   "codemirror_mode": {
    "name": "ipython",
    "version": 3
   },
   "file_extension": ".py",
   "mimetype": "text/x-python",
   "name": "python",
   "nbconvert_exporter": "python",
   "pygments_lexer": "ipython3",
   "version": "3.5.2"
  }
 },
 "nbformat": 4,
 "nbformat_minor": 1
}
